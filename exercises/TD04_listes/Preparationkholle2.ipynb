{
 "cells": [
  {
   "cell_type": "code",
   "execution_count": null,
   "metadata": {},
   "outputs": [],
   "source": [
    "#Exercice 1:\n"
   ]
  }
 ],
 "metadata": {
  "kernelspec": {
   "display_name": "Python 3.9.12 ('base')",
   "language": "python",
   "name": "python3"
  },
  "language_info": {
   "name": "python",
   "version": "3.9.12"
  },
  "orig_nbformat": 4,
  "vscode": {
   "interpreter": {
    "hash": "e6fbf20b60737d7f39e3ee4ab8edc74b19649157af2ff15fc59a666f83309d36"
   }
  }
 },
 "nbformat": 4,
 "nbformat_minor": 2
}
