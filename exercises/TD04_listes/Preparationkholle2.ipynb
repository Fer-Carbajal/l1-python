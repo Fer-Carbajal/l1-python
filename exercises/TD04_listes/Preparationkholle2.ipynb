{
 "cells": [
  {
   "cell_type": "code",
   "execution_count": 3,
   "metadata": {},
   "outputs": [
    {
     "name": "stdout",
     "output_type": "stream",
     "text": [
      "2\n"
     ]
    }
   ],
   "source": [
    "#Exercice 1:\n",
    "l=[1,2,3,4,5]\n",
    "m=3\n",
    "def superieur(liste,n):\n",
    "    nb=0\n",
    "    for i in liste:\n",
    "        if i>n:\n",
    "         nb+=1\n",
    "    return nb  \n",
    "print (superieur (l,m))\n",
    "\n",
    "\n"
   ]
  },
  {
   "cell_type": "code",
   "execution_count": 8,
   "metadata": {},
   "outputs": [
    {
     "name": "stdout",
     "output_type": "stream",
     "text": [
      "9\n",
      "8\n",
      "7\n",
      "6\n",
      "5\n",
      "4\n",
      "3\n",
      "2\n",
      "1\n"
     ]
    }
   ],
   "source": [
    "#Exercice 2:\n",
    "l=[1,2,3,4,5,6,7,8,9]\n",
    "for i in range (len(l)-1,-1,-1):\n",
    "    print (l[i])\n",
    "\n",
    "#l_rev=list(reversed(l))\n",
    "#print (l_rev)"
   ]
  },
  {
   "cell_type": "code",
   "execution_count": 7,
   "metadata": {},
   "outputs": [
    {
     "name": "stdout",
     "output_type": "stream",
     "text": [
      "True\n"
     ]
    }
   ],
   "source": [
    "#Exercice 3:\n",
    "def diviseur(a,b):\n",
    "    if a%b==0:\n",
    "        return True\n",
    "    else:\n",
    "        return False\n",
    "\n",
    "a=4\n",
    "b=2\n",
    "print (diviseur(a,b))\n",
    "\n"
   ]
  },
  {
   "cell_type": "code",
   "execution_count": 9,
   "metadata": {},
   "outputs": [
    {
     "name": "stdout",
     "output_type": "stream",
     "text": [
      "[['c', 2], ['o', 2], ['u', 2]]\n"
     ]
    }
   ],
   "source": [
    "#Exercice 4:\n",
    "def occurrence (chaine):\n",
    "    l=[]\n",
    "    for i in chaine:\n",
    "       nb=chaine.count(i)\n",
    "       if [i,nb] not in l:\n",
    "         l.append([i,nb])\n",
    "    return l\n",
    "\n",
    "chaine=\"coucou\"\n",
    "print (occurrence (chaine))"
   ]
  },
  {
   "cell_type": "code",
   "execution_count": 147,
   "metadata": {},
   "outputs": [
    {
     "name": "stdout",
     "output_type": "stream",
     "text": [
      "0 0 0 0 1 0 0\n",
      "0 0 0 0 0 0 0\n",
      "0 0 0 0 0 0 0\n",
      "0 0 0 0 0 0 0\n",
      "0 0 0 0 0 0 0\n",
      "0 0 0 0 0 0 0\n",
      "0 0 0 0 0 0 0\n",
      "[[0, 0, 0, 0, 1, 0, 0], [0, 0, 0, 0, 0, 0, 0], [0, 0, 0, 0, 0, 0, 0], [0, 0, 0, 0, 0, 0, 0], [0, 0, 0, 0, 0, 0, 0], [0, 0, 0, 0, 0, 0, 0], [0, 0, 0, 0, 0, 0, 0]]\n"
     ]
    }
   ],
   "source": [
    "#Exercice 5:\n",
    "n=7\n",
    "m=7\n",
    "L= [[0]*n for i in range (m)]\n",
    "\n",
    "import random\n",
    "def grille (n):\n",
    " i=random.randint(0,7)\n",
    " j=random.randint(0,7)\n",
    " while not i==0 or j==0 or i==(n) or j==(n):\n",
    "    i=random.randint(0,7)\n",
    "    j=random.randint(0,7)\n",
    " if i==0 or j==0 or i==(n) or j==(n):\n",
    "  L[i][j]=1\n",
    " for i in L:\n",
    "     print(' '.join([str(j) for j in i])) \n",
    " return L\n",
    "\n",
    "\n",
    "print (grille(L))\n",
    "\n"
   ]
  },
  {
   "cell_type": "code",
   "execution_count": 19,
   "metadata": {},
   "outputs": [
    {
     "name": "stdout",
     "output_type": "stream",
     "text": [
      "[0, 0, 0, 0, 0, 0]\n",
      "[0, 1, 2, 3, 4, 5]\n",
      "[0, 2, 4, 6, 8, 10]\n",
      "[0, 3, 6, 9, 12, 15]\n",
      "[0, 4, 8, 12, 16, 20]\n",
      "[0, 5, 10, 15, 20, 25]\n",
      "[[0, 0, 0, 0, 0, 0], [0, 1, 2, 3, 4, 5], [0, 2, 4, 6, 8, 10], [0, 3, 6, 9, 12, 15], [0, 4, 8, 12, 16, 20], [0, 5, 10, 15, 20, 25]]\n"
     ]
    }
   ],
   "source": [
    "def multiplication(n):\n",
    "    L = [[0] * (n+1) for i in range(n+1)]\n",
    "    for i in range(n+1) :\n",
    "     for j in range(n+1) :\n",
    "        L[i][j] = i*j\n",
    "    for i in L:\n",
    "     print(i)\n",
    "    return L\n",
    "print(multiplication(5))"
   ]
  },
  {
   "cell_type": "code",
   "execution_count": 95,
   "metadata": {},
   "outputs": [
    {
     "name": "stdout",
     "output_type": "stream",
     "text": [
      "0 0 0 0 0 0\n",
      "0 1 2 3 4 5\n",
      "0 2 4 6 8 10\n",
      "0 3 6 9 12 15\n",
      "0 4 8 12 16 20\n",
      "0 5 10 15 20 25\n",
      "[[0, 0, 0, 0, 0, 0], [0, 1, 2, 3, 4, 5], [0, 2, 4, 6, 8, 10], [0, 3, 6, 9, 12, 15], [0, 4, 8, 12, 16, 20], [0, 5, 10, 15, 20, 25]]\n"
     ]
    }
   ],
   "source": [
    "#Exercice 6:\n",
    "def multiplication(n):\n",
    "    L = [[0] * (n+1) for i in range(n+1)]\n",
    "    for i in range(n+1) :\n",
    "     for j in range(n+1) :\n",
    "        L[i][j] = i*j\n",
    "    for i in L:\n",
    "     print(' '.join([str(j) for j in i]))\n",
    "    return L\n",
    "    \n",
    "    \n",
    "\n",
    "print(multiplication(5))"
   ]
  }
 ],
 "metadata": {
  "kernelspec": {
   "display_name": "Python 3.9.12 ('base')",
   "language": "python",
   "name": "python3"
  },
  "language_info": {
   "codemirror_mode": {
    "name": "ipython",
    "version": 3
   },
   "file_extension": ".py",
   "mimetype": "text/x-python",
   "name": "python",
   "nbconvert_exporter": "python",
   "pygments_lexer": "ipython3",
   "version": "3.9.12"
  },
  "orig_nbformat": 4,
  "vscode": {
   "interpreter": {
    "hash": "e6fbf20b60737d7f39e3ee4ab8edc74b19649157af2ff15fc59a666f83309d36"
   }
  }
 },
 "nbformat": 4,
 "nbformat_minor": 2
}
