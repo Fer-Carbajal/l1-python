{
 "cells": [
  {
   "cell_type": "code",
   "execution_count": 3,
   "metadata": {},
   "outputs": [
    {
     "name": "stdout",
     "output_type": "stream",
     "text": [
      "2\n"
     ]
    }
   ],
   "source": [
    "#Exercice 1:\n",
    "l=[1,2,3,4,5]\n",
    "m=3\n",
    "def superieur(liste,n):\n",
    "    nb=0\n",
    "    for i in liste:\n",
    "        if i>n:\n",
    "         nb+=1\n",
    "    return nb  \n",
    "print (superieur (l,m))\n",
    "\n",
    "\n"
   ]
  },
  {
   "cell_type": "code",
   "execution_count": 8,
   "metadata": {},
   "outputs": [
    {
     "name": "stdout",
     "output_type": "stream",
     "text": [
      "9\n",
      "8\n",
      "7\n",
      "6\n",
      "5\n",
      "4\n",
      "3\n",
      "2\n",
      "1\n"
     ]
    }
   ],
   "source": [
    "#Exercice 2:\n",
    "l=[1,2,3,4,5,6,7,8,9]\n",
    "for i in range (len(l)-1,-1,-1):\n",
    "    print (l[i])\n",
    "\n",
    "#l_rev=list(reversed(l))\n",
    "#print (l_rev)"
   ]
  },
  {
   "cell_type": "code",
   "execution_count": 7,
   "metadata": {},
   "outputs": [
    {
     "name": "stdout",
     "output_type": "stream",
     "text": [
      "True\n"
     ]
    }
   ],
   "source": [
    "#Exercice 3:\n",
    "def diviseur(a,b):\n",
    "    if a%b==0:\n",
    "        return True\n",
    "    else:\n",
    "        return False\n",
    "\n",
    "a=4\n",
    "b=2\n",
    "print (diviseur(a,b))\n",
    "\n"
   ]
  },
  {
   "cell_type": "code",
   "execution_count": 9,
   "metadata": {},
   "outputs": [
    {
     "name": "stdout",
     "output_type": "stream",
     "text": [
      "[['c', 2], ['o', 2], ['u', 2]]\n"
     ]
    }
   ],
   "source": [
    "#Exercice 4:\n",
    "\n",
    "def occurrence (chaine):\n",
    "    l=[]\n",
    "    for i in chaine:\n",
    "       nb=chaine.count(i)\n",
    "       if [i,nb] not in l:\n",
    "         l.append([i,nb])\n",
    "    return l\n",
    "\n",
    "chaine=\"coucou\"\n",
    "print (occurrence (chaine))"
   ]
  },
  {
   "cell_type": "code",
   "execution_count": null,
   "metadata": {},
   "outputs": [],
   "source": []
  }
 ],
 "metadata": {
  "kernelspec": {
   "display_name": "Python 3.9.12 ('base')",
   "language": "python",
   "name": "python3"
  },
  "language_info": {
   "codemirror_mode": {
    "name": "ipython",
    "version": 3
   },
   "file_extension": ".py",
   "mimetype": "text/x-python",
   "name": "python",
   "nbconvert_exporter": "python",
   "pygments_lexer": "ipython3",
   "version": "3.9.12"
  },
  "orig_nbformat": 4,
  "vscode": {
   "interpreter": {
    "hash": "e6fbf20b60737d7f39e3ee4ab8edc74b19649157af2ff15fc59a666f83309d36"
   }
  }
 },
 "nbformat": 4,
 "nbformat_minor": 2
}
