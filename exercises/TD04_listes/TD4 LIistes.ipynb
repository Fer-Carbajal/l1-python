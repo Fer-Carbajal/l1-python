{
 "cells": [
  {
   "cell_type": "code",
   "execution_count": 39,
   "metadata": {},
   "outputs": [
    {
     "name": "stdout",
     "output_type": "stream",
     "text": [
      "[3, 10, 5, 16, 8, 4, 2, 1]\n",
      "True\n",
      "Le temps de vol de 3 est 7\n",
      "[0, 1, 7, 2, 5, 8, 16, 3, 19, 6, 14, 9, 9, 17, 17, 4, 12, 20, 20, 7, 7, 15, 15, 10, 23, 10, 111, 18, 18, 18, 106, 5, 26, 13, 13, 21, 21, 21, 34, 8, 109, 8, 29, 16, 16, 16, 104, 11, 24, 24, 24, 11, 11, 112, 112, 19, 32, 19, 32, 19, 19, 107, 107, 6, 27, 27, 27, 14, 14, 14, 102, 22, 115, 22, 14, 22, 22, 35, 35, 9, 22, 110, 110, 9, 9, 30, 30, 17, 30, 17, 92, 17, 17, 105, 105, 12, 118, 25, 25, 25]\n"
     ]
    }
   ],
   "source": [
    "n=3\n",
    "[3,10,5,16,8,4,2,1]\n",
    "\n",
    "def syracuse(n):\n",
    "    l=[n]\n",
    "    while n>1:\n",
    "        if n%2==0:\n",
    "            n=n//2\n",
    "        else:\n",
    "            n=3*n+1\n",
    "        l.append(n)\n",
    "    return l\n",
    "print (syracuse(3))\n",
    "\n",
    "def testeConjecture(n_max):\n",
    "    for i in range (1, n_max+1):\n",
    "        syracuse(i)\n",
    "    return True\n",
    "\n",
    "print(testeConjecture(10000))\n",
    "\n",
    "def tempsVol(n):\n",
    "    l=syracuse(n)\n",
    "    return len(l)-1\n",
    "\n",
    "print (\"Le temps de vol de\", 3, \"est\", tempsVol(3))\n",
    "\n",
    "def tempsVolListe(n_max):\n",
    "    return [tempsVol(i) for i in range (1,n_max+1)]\n",
    "\n",
    "print(tempsVolListe(100))\n",
    "\n",
    "listeVol=tempsVolListe(10000)\n",
    "tpsMax= max(listeVol)\n",
    "entier_Max=listeVol.index(tpsMax)+1\n",
    "\n",
    "def altMax(n):\n",
    "    l=syracuse(n)\n",
    "    return max(l)\n",
    "listeAlt= [altMax(i) for i in range (1,10001)]\n",
    "altMaxliste=max(listeAlt)\n",
    "entierMax=listeAlt.index(altMaxliste)+1 \n",
    "\n",
    "\n"
   ]
  },
  {
   "cell_type": "code",
   "execution_count": 45,
   "metadata": {},
   "outputs": [
    {
     "name": "stdout",
     "output_type": "stream",
     "text": [
      "14\n",
      "[[4, 14, 15, 1], [9, 7, 6, 12], [5, 11, 10, 8], [16, 2, 7, 13]]\n"
     ]
    },
    {
     "ename": "NameError",
     "evalue": "name 'carre' is not defined",
     "output_type": "error",
     "traceback": [
      "\u001b[0;31m---------------------------------------------------------------------------\u001b[0m",
      "\u001b[0;31mNameError\u001b[0m                                 Traceback (most recent call last)",
      "Cell \u001b[0;32mIn [45], line 20\u001b[0m\n\u001b[1;32m     17\u001b[0m             \u001b[38;5;28;01mreturn\u001b[39;00m\u001b[38;5;241m-\u001b[39m\u001b[38;5;241m1\u001b[39m\n\u001b[1;32m     18\u001b[0m     \u001b[38;5;28;01mreturn\u001b[39;00m somme\n\u001b[0;32m---> 20\u001b[0m l2\u001b[38;5;241m=\u001b[39m[l[\u001b[38;5;241m0\u001b[39m] \u001b[38;5;28;01mfor\u001b[39;00m l \u001b[38;5;129;01min\u001b[39;00m \u001b[43mcarre\u001b[49m]\n\u001b[1;32m     22\u001b[0m \u001b[38;5;28;01mdef\u001b[39;00m \u001b[38;5;21mtestColonnesEgales\u001b[39m(carre):\n\u001b[1;32m     23\u001b[0m     somCol\u001b[38;5;241m=\u001b[39m\u001b[38;5;28msum\u001b[39m([l[\u001b[38;5;241m0\u001b[39m] \u001b[38;5;28;01mfor\u001b[39;00m l \u001b[38;5;129;01min\u001b[39;00m carre])\n",
      "\u001b[0;31mNameError\u001b[0m: name 'carre' is not defined"
     ]
    }
   ],
   "source": [
    "carre_mag=[[4,14,15,1],[9,7,6,12],[5,11,10,8],[16,2,3,13]]\n",
    "carre_mag[0][1] #on accede au 2eme elt de la liste (14)\n",
    "print(carre_mag[0][1])\n",
    "\n",
    "carre_pas_mag=[list(l) for l in carre_mag]\n",
    "carre_pas_mag[3][2]=7\n",
    "print(carre_pas_mag)\n",
    "\n",
    "def afficheCarre(carre):\n",
    "    for l in carre:\n",
    "        print (l)\n",
    "\n",
    "def testLigneEgales(carre):\n",
    "    somme=sum(carre[0])\n",
    "    for l in carre:\n",
    "        if sum(l)!=somme:\n",
    "            return-1\n",
    "    return somme\n",
    "\n",
    "l2=[l[0] for l in carre]\n",
    "\n",
    "def testColonnesEgales(carre):\n",
    "    somCol=sum([l[0] for l in carre])\n",
    "    for i in range (1,len(carre)):\n",
    "        col= [l[i] for l in carre]\n",
    "        if sum(col)!=somCol:\n",
    "            return-1\n",
    "    return somCol\n",
    "\n",
    "def testDiagonalesEgales(carre):\n",
    "    n=len(carre)\n",
    "    diag1=[carre[i][i] for i in range (n)]\n",
    "    diag2=[carre[i][n-1-i] for i in range (n)]\n",
    "    if sum(diag1)== sum(diag2):\n",
    "        return sum(diag1)\n",
    "    else:\n",
    "        return-1\n"
   ]
  }
 ],
 "metadata": {
  "kernelspec": {
   "display_name": "Python 3.9.12 ('base')",
   "language": "python",
   "name": "python3"
  },
  "language_info": {
   "codemirror_mode": {
    "name": "ipython",
    "version": 3
   },
   "file_extension": ".py",
   "mimetype": "text/x-python",
   "name": "python",
   "nbconvert_exporter": "python",
   "pygments_lexer": "ipython3",
   "version": "3.9.12"
  },
  "orig_nbformat": 4,
  "vscode": {
   "interpreter": {
    "hash": "e6fbf20b60737d7f39e3ee4ab8edc74b19649157af2ff15fc59a666f83309d36"
   }
  }
 },
 "nbformat": 4,
 "nbformat_minor": 2
}
