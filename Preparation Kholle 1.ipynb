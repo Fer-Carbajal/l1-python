{
 "cells": [
  {
   "cell_type": "markdown",
   "metadata": {},
   "source": [
    "1) Questions cours:\n",
    "\n",
    "1.- /: division flottante\n",
    "//: division entiere (quotient)\n",
    "\n",
    "2.- var1: 4.5 <- float\n",
    "var2:\"2.0\"<- string\n",
    "print(var1+var2)\n",
    "on peut pas additionner un float et une string\n",
    "\n",
    "3.- True car 5*3==15 vrai\n",
    "\n",
    "4.- erreur car on affecte 3*4 (une valeur) a l'entier 12.  L'operande de gauche doit etre une variable. \n",
    "\n",
    "5.- premiere: pas de tret car c'est l'opperateur de soustraction\n",
    "derniere: pas commencer par un chiffre\n",
    "\n",
    "\n",
    "  "
   ]
  },
  {
   "cell_type": "code",
   "execution_count": 3,
   "metadata": {},
   "outputs": [
    {
     "name": "stdout",
     "output_type": "stream",
     "text": [
      "3 5\n"
     ]
    }
   ],
   "source": [
    "a=input (\"Saisir un nombre\")\n",
    "a=int (a)\n",
    "b=input (\"Saisir un autre nombre\")\n",
    "b=int(b)\n",
    "if a<b:\n",
    "    print (a , b)\n",
    "else:\n",
    "    a,b=b,a\n",
    "    print(a,b) "
   ]
  },
  {
   "cell_type": "code",
   "execution_count": 24,
   "metadata": {},
   "outputs": [
    {
     "name": "stdout",
     "output_type": "stream",
     "text": [
      "Diviseur\n",
      "4 88\n"
     ]
    }
   ],
   "source": [
    "import random\n",
    "s=random.randint(10,99)\n",
    "a=int(input(\"Saisir un nombre a un chiffre\"))\n",
    "if a>1 and s%a==0:\n",
    "    print (\"Diviseur\")\n",
    "else:\n",
    "    print (\"False\")   \n",
    "print (a,s) \n",
    "\n"
   ]
  },
  {
   "cell_type": "code",
   "execution_count": 33,
   "metadata": {},
   "outputs": [
    {
     "name": "stdout",
     "output_type": "stream",
     "text": [
      "-279936 -1959552\n"
     ]
    }
   ],
   "source": [
    "var1=-6\n",
    "var2=7\n",
    "if (var1<0 and var2<0) or (var1>0 and var2>0):\n",
    "    var1,var2=var2,var1\n",
    "    print(var1,var2)\n",
    "else:\n",
    "    var1= var1**var2\n",
    "    var2=var1*var2\n",
    "    print(var1,var2)\n"
   ]
  },
  {
   "cell_type": "code",
   "execution_count": 40,
   "metadata": {},
   "outputs": [
    {
     "name": "stdout",
     "output_type": "stream",
     "text": [
      "8\n"
     ]
    }
   ],
   "source": [
    "a=64\n",
    "b=24\n",
    "pgcd=1\n",
    "for i in range (1,min(a,b)):\n",
    "    if a%i==0 and b%i==0:\n",
    "      pgcd=i\n",
    "print (pgcd)\n",
    "\n"
   ]
  },
  {
   "cell_type": "code",
   "execution_count": 39,
   "metadata": {},
   "outputs": [
    {
     "name": "stdout",
     "output_type": "stream",
     "text": [
      "8\n"
     ]
    }
   ],
   "source": [
    "a=64\n",
    "b=24\n",
    "if a>=b:\n",
    "    while b!=0:\n",
    "        r=a%b\n",
    "        a,b=b,r\n",
    "    print (a)"
   ]
  },
  {
   "cell_type": "code",
   "execution_count": null,
   "metadata": {},
   "outputs": [],
   "source": [
    "n=int(input(\"saisissez l'age de l'enfant\"))\n",
    "montant=0\n",
    "for i in range (1,n+1):\n",
    "    montant +=120+3*i\n",
    "print (montant)"
   ]
  },
  {
   "cell_type": "code",
   "execution_count": 42,
   "metadata": {},
   "outputs": [
    {
     "name": "stdout",
     "output_type": "stream",
     "text": [
      "78\n",
      "77\n",
      "76\n",
      "75\n",
      "74\n",
      "73\n",
      "72\n",
      "71\n",
      "70\n",
      "69\n"
     ]
    }
   ],
   "source": [
    "n=int(input(\"saisissez un nombre\"))\n",
    "for i in range (0,10):\n",
    "    print (n-i)\n"
   ]
  }
 ],
 "metadata": {
  "kernelspec": {
   "display_name": "Python 3.9.6 64-bit",
   "language": "python",
   "name": "python3"
  },
  "language_info": {
   "codemirror_mode": {
    "name": "ipython",
    "version": 3
   },
   "file_extension": ".py",
   "mimetype": "text/x-python",
   "name": "python",
   "nbconvert_exporter": "python",
   "pygments_lexer": "ipython3",
   "version": "3.9.6"
  },
  "orig_nbformat": 4,
  "vscode": {
   "interpreter": {
    "hash": "31f2aee4e71d21fbe5cf8b01ff0e069b9275f58929596ceb00d14d90e3e16cd6"
   }
  }
 },
 "nbformat": 4,
 "nbformat_minor": 2
}
